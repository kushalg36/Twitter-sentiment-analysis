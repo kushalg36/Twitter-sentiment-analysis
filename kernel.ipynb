{
  "cells": [
    {
      "metadata": {
        "_uuid": "8f2839f25d086af736a60e9eeb907d3b93b6e0e5",
        "_cell_guid": "b1076dfc-b9ad-4769-8c92-a6c4dae69d19",
        "trusted": true
      },
      "cell_type": "code",
      "source": "# This Python 3 environment comes with many helpful analytics libraries installed\n# It is defined by the kaggle/python docker image: https://github.com/kaggle/docker-python\n# For example, here's several helpful packages to load in \n\nimport numpy as np # linear algebra\nimport pandas as pd # data processing, CSV file I/O (e.g. pd.read_csv)\n\n# Input data files are available in the \"../input/\" directory.\n# For example, running this (by clicking run or pressing Shift+Enter) will list the files in the input directory\n\nimport os\nprint(os.listdir(\"../input\"))\n\n# Any results you write to the current directory are saved as output.",
      "execution_count": null,
      "outputs": []
    },
    {
      "metadata": {
        "_cell_guid": "79c7e3d0-c299-4dcb-8224-4455121ee9b0",
        "_uuid": "d629ff2d2480ee46fbb7e2d37f6b5fab8052498a",
        "trusted": true
      },
      "cell_type": "code",
      "source": "import tweepy \nimport pandas as pd\nfrom nltk.sentiment.vader import SentimentIntensityAnalyzer",
      "execution_count": null,
      "outputs": []
    },
    {
      "metadata": {
        "trusted": true,
        "_uuid": "cd44a93b37c0ca10382bfbc6edf2cd483e5a1a57"
      },
      "cell_type": "code",
      "source": "# My twitter API authentication Variables\nconsumer_key = 'g8IV31cJHNjCqWboDN5vvxIUx'\nconsumer_secret = '6dTM0vuShtqvp7C9QYEeFK8OPvqpcO5kIb61BtHwuxSivXXYWU'\naccess_token = '901190515168641024-IVXQFs5hTKT8ES7LE9Ylcvct1I7YNYJ'\naccess_token_secret = 'hY4W5aHSNRNFjJhtlctPHOFXXGiCngmWkaLifu5c5wOEW'",
      "execution_count": null,
      "outputs": []
    },
    {
      "metadata": {
        "trusted": true,
        "_uuid": "8ed0f0a3041da313d62c79de8e8bfa76eb08ef23"
      },
      "cell_type": "code",
      "source": "auth = tweepy.OAuthHandler(consumer_key, consumer_secret)\nauth.set_access_token(access_token, access_token_secret)\n\napi = tweepy.API(auth)\n\n# api.update_status(\"This is my tweet using tweepy, WOW!\")\ntweets = api.search('rahul gandhi',count=200)\ndata = pd.DataFrame(data=[tweet.text for tweet in tweets],columns=['Tweets'])\n\ndisplay(data.head(10))\n# print(tweets[0].source)\nprint(tweets[10].created_at)",
      "execution_count": 23,
      "outputs": [
        {
          "output_type": "display_data",
          "data": {
            "text/plain": "                                              Tweets\n0  RT @theskindoctor13: NEW : (Fake) chat screens...\n1  RT @royally_fiery: Rahul Gandhi ate all the co...\n2  RT @Supriya23bh: Rahul Gandhi : How is Anil Am...\n3  RT @paranjoygt: Rahul Gandhi on Rafale deal: P...\n4  RT @ggiittiikkaa: PM Modi is Lying\\nIndian Air...\n5  RT @KeertiJoshi: Astounding ignorance of journ...\n6  RT @Mohansinha: What amazes me is not one jour...\n7  RT @ANI: Union Law Minister Ravi Shankar Prasa...\n8  @katamulgi @TwitterIndia @Twitter @TwitterSupp...\n9  RT @aajtak: राहुल गांधी के आरोपों का जवाब रविश...",
            "text/html": "<div>\n<style scoped>\n    .dataframe tbody tr th:only-of-type {\n        vertical-align: middle;\n    }\n\n    .dataframe tbody tr th {\n        vertical-align: top;\n    }\n\n    .dataframe thead th {\n        text-align: right;\n    }\n</style>\n<table border=\"1\" class=\"dataframe\">\n  <thead>\n    <tr style=\"text-align: right;\">\n      <th></th>\n      <th>Tweets</th>\n    </tr>\n  </thead>\n  <tbody>\n    <tr>\n      <th>0</th>\n      <td>RT @theskindoctor13: NEW : (Fake) chat screens...</td>\n    </tr>\n    <tr>\n      <th>1</th>\n      <td>RT @royally_fiery: Rahul Gandhi ate all the co...</td>\n    </tr>\n    <tr>\n      <th>2</th>\n      <td>RT @Supriya23bh: Rahul Gandhi : How is Anil Am...</td>\n    </tr>\n    <tr>\n      <th>3</th>\n      <td>RT @paranjoygt: Rahul Gandhi on Rafale deal: P...</td>\n    </tr>\n    <tr>\n      <th>4</th>\n      <td>RT @ggiittiikkaa: PM Modi is Lying\\nIndian Air...</td>\n    </tr>\n    <tr>\n      <th>5</th>\n      <td>RT @KeertiJoshi: Astounding ignorance of journ...</td>\n    </tr>\n    <tr>\n      <th>6</th>\n      <td>RT @Mohansinha: What amazes me is not one jour...</td>\n    </tr>\n    <tr>\n      <th>7</th>\n      <td>RT @ANI: Union Law Minister Ravi Shankar Prasa...</td>\n    </tr>\n    <tr>\n      <th>8</th>\n      <td>@katamulgi @TwitterIndia @Twitter @TwitterSupp...</td>\n    </tr>\n    <tr>\n      <th>9</th>\n      <td>RT @aajtak: राहुल गांधी के आरोपों का जवाब रविश...</td>\n    </tr>\n  </tbody>\n</table>\n</div>"
          },
          "metadata": {}
        },
        {
          "output_type": "stream",
          "text": "2019-02-12 09:23:42\n",
          "name": "stdout"
        }
      ]
    },
    {
      "metadata": {
        "trusted": true,
        "_uuid": "b03a80b51d016b3c8455f36f83741facb67d72e7"
      },
      "cell_type": "code",
      "source": "import nltk\nnltk.download('vader_lexicon')",
      "execution_count": 25,
      "outputs": [
        {
          "output_type": "stream",
          "text": "[nltk_data] Downloading package vader_lexicon to\n[nltk_data]     /usr/share/nltk_data...\n[nltk_data]   Package vader_lexicon is already up-to-date!\n",
          "name": "stdout"
        },
        {
          "output_type": "execute_result",
          "execution_count": 25,
          "data": {
            "text/plain": "True"
          },
          "metadata": {}
        }
      ]
    },
    {
      "metadata": {
        "trusted": true,
        "_uuid": "bb673ab2040b34605bdc2990abdca9dad9531f1b"
      },
      "cell_type": "code",
      "source": "sid = SentimentIntensityAnalyzer()\nlisty = []\nfor index,row in data.iterrows():\n    ss = sid.polarity_scores(row['Tweets'])\n    listy.append(ss)\nse = pd.Series(listy)\n\ndata['polarity'] = se.values\n\ndisplay(data.head(100))",
      "execution_count": 36,
      "outputs": [
        {
          "output_type": "display_data",
          "data": {
            "text/plain": "                                               Tweets                                           polarity\n0   RT @theskindoctor13: NEW : (Fake) chat screens...  {'neg': 0.0, 'neu': 1.0, 'pos': 0.0, 'compound...\n1   RT @royally_fiery: Rahul Gandhi ate all the co...  {'neg': 0.0, 'neu': 1.0, 'pos': 0.0, 'compound...\n2   RT @Supriya23bh: Rahul Gandhi : How is Anil Am...  {'neg': 0.0, 'neu': 1.0, 'pos': 0.0, 'compound...\n3   RT @paranjoygt: Rahul Gandhi on Rafale deal: P...  {'neg': 0.0, 'neu': 1.0, 'pos': 0.0, 'compound...\n4   RT @ggiittiikkaa: PM Modi is Lying\\nIndian Air...  {'neg': 0.467, 'neu': 0.495, 'pos': 0.038, 'co...\n5   RT @KeertiJoshi: Astounding ignorance of journ...  {'neg': 0.098, 'neu': 0.781, 'pos': 0.121, 'co...\n6   RT @Mohansinha: What amazes me is not one jour...  {'neg': 0.078, 'neu': 0.814, 'pos': 0.108, 'co...\n7   RT @ANI: Union Law Minister Ravi Shankar Prasa...  {'neg': 0.0, 'neu': 0.922, 'pos': 0.078, 'comp...\n8   @katamulgi @TwitterIndia @Twitter @TwitterSupp...  {'neg': 0.0, 'neu': 1.0, 'pos': 0.0, 'compound...\n9   RT @aajtak: राहुल गांधी के आरोपों का जवाब रविश...  {'neg': 0.0, 'neu': 1.0, 'pos': 0.0, 'compound...\n10  RT @Satyanewshi: This lady from the audience s...  {'neg': 0.0, 'neu': 1.0, 'pos': 0.0, 'compound...\n11  @nistula Stopped The Hindu daily subscription....  {'neg': 0.158, 'neu': 0.842, 'pos': 0.0, 'comp...\n12  RT @TajinderBagga: I am PM @narendramodi suppo...  {'neg': 0.0, 'neu': 0.769, 'pos': 0.231, 'comp...\n13  RT @ndtv: \"Narendra Modi Ji used to speak like...  {'neg': 0.0, 'neu': 0.872, 'pos': 0.128, 'comp...\n14  #DalalModi  #ChowkidarChorHai\\n135 Crore India...  {'neg': 0.0, 'neu': 0.837, 'pos': 0.163, 'comp...\n15  RT @SmokingSkills_: Don’t know if Priyanka Gan...  {'neg': 0.1, 'neu': 0.704, 'pos': 0.196, 'comp...\n16  RT @Mohansinha: What amazes me is not one jour...  {'neg': 0.078, 'neu': 0.814, 'pos': 0.108, 'co...\n17  RT @TajinderBagga: I am PM @narendramodi suppo...  {'neg': 0.0, 'neu': 0.769, 'pos': 0.231, 'comp...\n18  RT @TajinderBagga: I am PM @narendramodi suppo...  {'neg': 0.0, 'neu': 0.769, 'pos': 0.231, 'comp...\n19  RT @TajinderBagga: I am PM @narendramodi suppo...  {'neg': 0.0, 'neu': 0.769, 'pos': 0.231, 'comp...\n20  RT @ggiittiikkaa: PM Modi is Lying\\nIndian Air...  {'neg': 0.467, 'neu': 0.495, 'pos': 0.038, 'co...\n21  RT @TajinderBagga: I am PM @narendramodi suppo...  {'neg': 0.0, 'neu': 0.769, 'pos': 0.231, 'comp...\n22  RT @bsindia: Prime Minister Narendra Modi acti...  {'neg': 0.0, 'neu': 1.0, 'pos': 0.0, 'compound...\n23  RT @TajinderBagga: I am PM @narendramodi suppo...  {'neg': 0.0, 'neu': 0.769, 'pos': 0.231, 'comp...\n24  RT @iAnkurSingh: Rahul Gandhi was asking where...  {'neg': 0.139, 'neu': 0.861, 'pos': 0.0, 'comp...\n25  RT @punjabkesari: राहुल गांधी का दावा- अनिल अं...  {'neg': 0.0, 'neu': 1.0, 'pos': 0.0, 'compound...\n26  RT @TajinderBagga: I am PM @narendramodi suppo...  {'neg': 0.0, 'neu': 0.769, 'pos': 0.231, 'comp...\n27  RT @TajinderBagga: I am PM @narendramodi suppo...  {'neg': 0.0, 'neu': 0.769, 'pos': 0.231, 'comp...\n28  RT @TajinderBagga: I am PM @narendramodi suppo...  {'neg': 0.0, 'neu': 0.769, 'pos': 0.231, 'comp...\n29  RT @Being_Humor: Conspiracy Theory: Priyanka V...  {'neg': 0.249, 'neu': 0.686, 'pos': 0.065, 'co...\n..                                                ...                                                ...\n70  RT @iAnkurSingh: Rahul Gandhi was asking where...  {'neg': 0.139, 'neu': 0.861, 'pos': 0.0, 'comp...\n71  RT @rose_k01: SHAMELESS Rahul Gandhi Not only ...  {'neg': 0.09, 'neu': 0.91, 'pos': 0.0, 'compou...\n72  RT @ANI: Union Law Minister Ravi Shankar Prasa...  {'neg': 0.0, 'neu': 0.922, 'pos': 0.078, 'comp...\n73  RT @TajinderBagga: I am PM @narendramodi suppo...  {'neg': 0.0, 'neu': 0.769, 'pos': 0.231, 'comp...\n74  RT @ANI: Union Law Minister Ravi Shankar Prasa...  {'neg': 0.0, 'neu': 0.922, 'pos': 0.078, 'comp...\n75  RT @iAnkurSingh: Rahul Gandhi was asking where...  {'neg': 0.139, 'neu': 0.861, 'pos': 0.0, 'comp...\n76  RT @TajinderBagga: I am PM @narendramodi suppo...  {'neg': 0.0, 'neu': 0.769, 'pos': 0.231, 'comp...\n77  RT @SmokingSkills_: Don’t know if Priyanka Gan...  {'neg': 0.1, 'neu': 0.704, 'pos': 0.196, 'comp...\n78  RT @timesofindia: Rahul Gandhi a lobbyist of p...  {'neg': 0.0, 'neu': 1.0, 'pos': 0.0, 'compound...\n79  RT @iAnkurSingh: Rahul Gandhi was asking where...  {'neg': 0.139, 'neu': 0.861, 'pos': 0.0, 'comp...\n80  RT @attomeybharti: During UPA, Airbus made hug...  {'neg': 0.072, 'neu': 0.723, 'pos': 0.205, 'co...\n81  RT @ggiittiikkaa: PM Modi is Lying\\nIndian Air...  {'neg': 0.467, 'neu': 0.495, 'pos': 0.038, 'co...\n82  RT @ANI: Union Law Minister Ravi Shankar Prasa...  {'neg': 0.0, 'neu': 0.922, 'pos': 0.078, 'comp...\n83  RT @indiantweeter: Rahul Gandhi ne poori Congr...  {'neg': 0.0, 'neu': 1.0, 'pos': 0.0, 'compound...\n84  RT @TajinderBagga: I am PM @narendramodi suppo...  {'neg': 0.0, 'neu': 0.769, 'pos': 0.231, 'comp...\n85  RT @ClawedHumor: Rahul Gandhi: I bet you can’t...  {'neg': 0.0, 'neu': 1.0, 'pos': 0.0, 'compound...\n86  RT @ANI: Rahul Gandhi: Narendra Modi ji is act...  {'neg': 0.0, 'neu': 0.902, 'pos': 0.098, 'comp...\n87  RT @ggiittiikkaa: PM Modi is Lying\\nIndian Air...  {'neg': 0.467, 'neu': 0.495, 'pos': 0.038, 'co...\n88  RT @TajinderBagga: I am PM @narendramodi suppo...  {'neg': 0.0, 'neu': 0.769, 'pos': 0.231, 'comp...\n89  @rameshsingh1112 @manakgupta @RahulGandhi sir ...  {'neg': 0.0, 'neu': 0.856, 'pos': 0.144, 'comp...\n90  RT @TajinderBagga: I am PM @narendramodi suppo...  {'neg': 0.0, 'neu': 0.769, 'pos': 0.231, 'comp...\n91  RT @Seems3r: Rahul Gandhi is a failed politici...  {'neg': 0.105, 'neu': 0.794, 'pos': 0.102, 'co...\n92  AAP कल 'तानाशाही हटाओ, लोकतंत्र बचाओ' रैली करे...  {'neg': 0.0, 'neu': 1.0, 'pos': 0.0, 'compound...\n93  RT @MyNation: #IndiaFirst with @vivekagnihotri...  {'neg': 0.0, 'neu': 1.0, 'pos': 0.0, 'compound...\n94  RT @Doval_Ajit12: Abhi abhi ek mera dost bta r...  {'neg': 0.0, 'neu': 1.0, 'pos': 0.0, 'compound...\n95  RT @TajinderBagga: I am PM @narendramodi suppo...  {'neg': 0.0, 'neu': 0.769, 'pos': 0.231, 'comp...\n96  RT @iAnkurSingh: Rahul Gandhi was asking where...  {'neg': 0.139, 'neu': 0.861, 'pos': 0.0, 'comp...\n97  RT @royally_fiery: Rahul Gandhi ate all the co...  {'neg': 0.0, 'neu': 1.0, 'pos': 0.0, 'compound...\n98  RT @TajinderBagga: I am PM @narendramodi suppo...  {'neg': 0.0, 'neu': 0.769, 'pos': 0.231, 'comp...\n99  RT @TajinderBagga: I am PM @narendramodi suppo...  {'neg': 0.0, 'neu': 0.769, 'pos': 0.231, 'comp...\n\n[100 rows x 2 columns]",
            "text/html": "<div>\n<style scoped>\n    .dataframe tbody tr th:only-of-type {\n        vertical-align: middle;\n    }\n\n    .dataframe tbody tr th {\n        vertical-align: top;\n    }\n\n    .dataframe thead th {\n        text-align: right;\n    }\n</style>\n<table border=\"1\" class=\"dataframe\">\n  <thead>\n    <tr style=\"text-align: right;\">\n      <th></th>\n      <th>Tweets</th>\n      <th>polarity</th>\n    </tr>\n  </thead>\n  <tbody>\n    <tr>\n      <th>0</th>\n      <td>RT @theskindoctor13: NEW : (Fake) chat screens...</td>\n      <td>{'neg': 0.0, 'neu': 1.0, 'pos': 0.0, 'compound...</td>\n    </tr>\n    <tr>\n      <th>1</th>\n      <td>RT @royally_fiery: Rahul Gandhi ate all the co...</td>\n      <td>{'neg': 0.0, 'neu': 1.0, 'pos': 0.0, 'compound...</td>\n    </tr>\n    <tr>\n      <th>2</th>\n      <td>RT @Supriya23bh: Rahul Gandhi : How is Anil Am...</td>\n      <td>{'neg': 0.0, 'neu': 1.0, 'pos': 0.0, 'compound...</td>\n    </tr>\n    <tr>\n      <th>3</th>\n      <td>RT @paranjoygt: Rahul Gandhi on Rafale deal: P...</td>\n      <td>{'neg': 0.0, 'neu': 1.0, 'pos': 0.0, 'compound...</td>\n    </tr>\n    <tr>\n      <th>4</th>\n      <td>RT @ggiittiikkaa: PM Modi is Lying\\nIndian Air...</td>\n      <td>{'neg': 0.467, 'neu': 0.495, 'pos': 0.038, 'co...</td>\n    </tr>\n    <tr>\n      <th>5</th>\n      <td>RT @KeertiJoshi: Astounding ignorance of journ...</td>\n      <td>{'neg': 0.098, 'neu': 0.781, 'pos': 0.121, 'co...</td>\n    </tr>\n    <tr>\n      <th>6</th>\n      <td>RT @Mohansinha: What amazes me is not one jour...</td>\n      <td>{'neg': 0.078, 'neu': 0.814, 'pos': 0.108, 'co...</td>\n    </tr>\n    <tr>\n      <th>7</th>\n      <td>RT @ANI: Union Law Minister Ravi Shankar Prasa...</td>\n      <td>{'neg': 0.0, 'neu': 0.922, 'pos': 0.078, 'comp...</td>\n    </tr>\n    <tr>\n      <th>8</th>\n      <td>@katamulgi @TwitterIndia @Twitter @TwitterSupp...</td>\n      <td>{'neg': 0.0, 'neu': 1.0, 'pos': 0.0, 'compound...</td>\n    </tr>\n    <tr>\n      <th>9</th>\n      <td>RT @aajtak: राहुल गांधी के आरोपों का जवाब रविश...</td>\n      <td>{'neg': 0.0, 'neu': 1.0, 'pos': 0.0, 'compound...</td>\n    </tr>\n    <tr>\n      <th>10</th>\n      <td>RT @Satyanewshi: This lady from the audience s...</td>\n      <td>{'neg': 0.0, 'neu': 1.0, 'pos': 0.0, 'compound...</td>\n    </tr>\n    <tr>\n      <th>11</th>\n      <td>@nistula Stopped The Hindu daily subscription....</td>\n      <td>{'neg': 0.158, 'neu': 0.842, 'pos': 0.0, 'comp...</td>\n    </tr>\n    <tr>\n      <th>12</th>\n      <td>RT @TajinderBagga: I am PM @narendramodi suppo...</td>\n      <td>{'neg': 0.0, 'neu': 0.769, 'pos': 0.231, 'comp...</td>\n    </tr>\n    <tr>\n      <th>13</th>\n      <td>RT @ndtv: \"Narendra Modi Ji used to speak like...</td>\n      <td>{'neg': 0.0, 'neu': 0.872, 'pos': 0.128, 'comp...</td>\n    </tr>\n    <tr>\n      <th>14</th>\n      <td>#DalalModi  #ChowkidarChorHai\\n135 Crore India...</td>\n      <td>{'neg': 0.0, 'neu': 0.837, 'pos': 0.163, 'comp...</td>\n    </tr>\n    <tr>\n      <th>15</th>\n      <td>RT @SmokingSkills_: Don’t know if Priyanka Gan...</td>\n      <td>{'neg': 0.1, 'neu': 0.704, 'pos': 0.196, 'comp...</td>\n    </tr>\n    <tr>\n      <th>16</th>\n      <td>RT @Mohansinha: What amazes me is not one jour...</td>\n      <td>{'neg': 0.078, 'neu': 0.814, 'pos': 0.108, 'co...</td>\n    </tr>\n    <tr>\n      <th>17</th>\n      <td>RT @TajinderBagga: I am PM @narendramodi suppo...</td>\n      <td>{'neg': 0.0, 'neu': 0.769, 'pos': 0.231, 'comp...</td>\n    </tr>\n    <tr>\n      <th>18</th>\n      <td>RT @TajinderBagga: I am PM @narendramodi suppo...</td>\n      <td>{'neg': 0.0, 'neu': 0.769, 'pos': 0.231, 'comp...</td>\n    </tr>\n    <tr>\n      <th>19</th>\n      <td>RT @TajinderBagga: I am PM @narendramodi suppo...</td>\n      <td>{'neg': 0.0, 'neu': 0.769, 'pos': 0.231, 'comp...</td>\n    </tr>\n    <tr>\n      <th>20</th>\n      <td>RT @ggiittiikkaa: PM Modi is Lying\\nIndian Air...</td>\n      <td>{'neg': 0.467, 'neu': 0.495, 'pos': 0.038, 'co...</td>\n    </tr>\n    <tr>\n      <th>21</th>\n      <td>RT @TajinderBagga: I am PM @narendramodi suppo...</td>\n      <td>{'neg': 0.0, 'neu': 0.769, 'pos': 0.231, 'comp...</td>\n    </tr>\n    <tr>\n      <th>22</th>\n      <td>RT @bsindia: Prime Minister Narendra Modi acti...</td>\n      <td>{'neg': 0.0, 'neu': 1.0, 'pos': 0.0, 'compound...</td>\n    </tr>\n    <tr>\n      <th>23</th>\n      <td>RT @TajinderBagga: I am PM @narendramodi suppo...</td>\n      <td>{'neg': 0.0, 'neu': 0.769, 'pos': 0.231, 'comp...</td>\n    </tr>\n    <tr>\n      <th>24</th>\n      <td>RT @iAnkurSingh: Rahul Gandhi was asking where...</td>\n      <td>{'neg': 0.139, 'neu': 0.861, 'pos': 0.0, 'comp...</td>\n    </tr>\n    <tr>\n      <th>25</th>\n      <td>RT @punjabkesari: राहुल गांधी का दावा- अनिल अं...</td>\n      <td>{'neg': 0.0, 'neu': 1.0, 'pos': 0.0, 'compound...</td>\n    </tr>\n    <tr>\n      <th>26</th>\n      <td>RT @TajinderBagga: I am PM @narendramodi suppo...</td>\n      <td>{'neg': 0.0, 'neu': 0.769, 'pos': 0.231, 'comp...</td>\n    </tr>\n    <tr>\n      <th>27</th>\n      <td>RT @TajinderBagga: I am PM @narendramodi suppo...</td>\n      <td>{'neg': 0.0, 'neu': 0.769, 'pos': 0.231, 'comp...</td>\n    </tr>\n    <tr>\n      <th>28</th>\n      <td>RT @TajinderBagga: I am PM @narendramodi suppo...</td>\n      <td>{'neg': 0.0, 'neu': 0.769, 'pos': 0.231, 'comp...</td>\n    </tr>\n    <tr>\n      <th>29</th>\n      <td>RT @Being_Humor: Conspiracy Theory: Priyanka V...</td>\n      <td>{'neg': 0.249, 'neu': 0.686, 'pos': 0.065, 'co...</td>\n    </tr>\n    <tr>\n      <th>...</th>\n      <td>...</td>\n      <td>...</td>\n    </tr>\n    <tr>\n      <th>70</th>\n      <td>RT @iAnkurSingh: Rahul Gandhi was asking where...</td>\n      <td>{'neg': 0.139, 'neu': 0.861, 'pos': 0.0, 'comp...</td>\n    </tr>\n    <tr>\n      <th>71</th>\n      <td>RT @rose_k01: SHAMELESS Rahul Gandhi Not only ...</td>\n      <td>{'neg': 0.09, 'neu': 0.91, 'pos': 0.0, 'compou...</td>\n    </tr>\n    <tr>\n      <th>72</th>\n      <td>RT @ANI: Union Law Minister Ravi Shankar Prasa...</td>\n      <td>{'neg': 0.0, 'neu': 0.922, 'pos': 0.078, 'comp...</td>\n    </tr>\n    <tr>\n      <th>73</th>\n      <td>RT @TajinderBagga: I am PM @narendramodi suppo...</td>\n      <td>{'neg': 0.0, 'neu': 0.769, 'pos': 0.231, 'comp...</td>\n    </tr>\n    <tr>\n      <th>74</th>\n      <td>RT @ANI: Union Law Minister Ravi Shankar Prasa...</td>\n      <td>{'neg': 0.0, 'neu': 0.922, 'pos': 0.078, 'comp...</td>\n    </tr>\n    <tr>\n      <th>75</th>\n      <td>RT @iAnkurSingh: Rahul Gandhi was asking where...</td>\n      <td>{'neg': 0.139, 'neu': 0.861, 'pos': 0.0, 'comp...</td>\n    </tr>\n    <tr>\n      <th>76</th>\n      <td>RT @TajinderBagga: I am PM @narendramodi suppo...</td>\n      <td>{'neg': 0.0, 'neu': 0.769, 'pos': 0.231, 'comp...</td>\n    </tr>\n    <tr>\n      <th>77</th>\n      <td>RT @SmokingSkills_: Don’t know if Priyanka Gan...</td>\n      <td>{'neg': 0.1, 'neu': 0.704, 'pos': 0.196, 'comp...</td>\n    </tr>\n    <tr>\n      <th>78</th>\n      <td>RT @timesofindia: Rahul Gandhi a lobbyist of p...</td>\n      <td>{'neg': 0.0, 'neu': 1.0, 'pos': 0.0, 'compound...</td>\n    </tr>\n    <tr>\n      <th>79</th>\n      <td>RT @iAnkurSingh: Rahul Gandhi was asking where...</td>\n      <td>{'neg': 0.139, 'neu': 0.861, 'pos': 0.0, 'comp...</td>\n    </tr>\n    <tr>\n      <th>80</th>\n      <td>RT @attomeybharti: During UPA, Airbus made hug...</td>\n      <td>{'neg': 0.072, 'neu': 0.723, 'pos': 0.205, 'co...</td>\n    </tr>\n    <tr>\n      <th>81</th>\n      <td>RT @ggiittiikkaa: PM Modi is Lying\\nIndian Air...</td>\n      <td>{'neg': 0.467, 'neu': 0.495, 'pos': 0.038, 'co...</td>\n    </tr>\n    <tr>\n      <th>82</th>\n      <td>RT @ANI: Union Law Minister Ravi Shankar Prasa...</td>\n      <td>{'neg': 0.0, 'neu': 0.922, 'pos': 0.078, 'comp...</td>\n    </tr>\n    <tr>\n      <th>83</th>\n      <td>RT @indiantweeter: Rahul Gandhi ne poori Congr...</td>\n      <td>{'neg': 0.0, 'neu': 1.0, 'pos': 0.0, 'compound...</td>\n    </tr>\n    <tr>\n      <th>84</th>\n      <td>RT @TajinderBagga: I am PM @narendramodi suppo...</td>\n      <td>{'neg': 0.0, 'neu': 0.769, 'pos': 0.231, 'comp...</td>\n    </tr>\n    <tr>\n      <th>85</th>\n      <td>RT @ClawedHumor: Rahul Gandhi: I bet you can’t...</td>\n      <td>{'neg': 0.0, 'neu': 1.0, 'pos': 0.0, 'compound...</td>\n    </tr>\n    <tr>\n      <th>86</th>\n      <td>RT @ANI: Rahul Gandhi: Narendra Modi ji is act...</td>\n      <td>{'neg': 0.0, 'neu': 0.902, 'pos': 0.098, 'comp...</td>\n    </tr>\n    <tr>\n      <th>87</th>\n      <td>RT @ggiittiikkaa: PM Modi is Lying\\nIndian Air...</td>\n      <td>{'neg': 0.467, 'neu': 0.495, 'pos': 0.038, 'co...</td>\n    </tr>\n    <tr>\n      <th>88</th>\n      <td>RT @TajinderBagga: I am PM @narendramodi suppo...</td>\n      <td>{'neg': 0.0, 'neu': 0.769, 'pos': 0.231, 'comp...</td>\n    </tr>\n    <tr>\n      <th>89</th>\n      <td>@rameshsingh1112 @manakgupta @RahulGandhi sir ...</td>\n      <td>{'neg': 0.0, 'neu': 0.856, 'pos': 0.144, 'comp...</td>\n    </tr>\n    <tr>\n      <th>90</th>\n      <td>RT @TajinderBagga: I am PM @narendramodi suppo...</td>\n      <td>{'neg': 0.0, 'neu': 0.769, 'pos': 0.231, 'comp...</td>\n    </tr>\n    <tr>\n      <th>91</th>\n      <td>RT @Seems3r: Rahul Gandhi is a failed politici...</td>\n      <td>{'neg': 0.105, 'neu': 0.794, 'pos': 0.102, 'co...</td>\n    </tr>\n    <tr>\n      <th>92</th>\n      <td>AAP कल 'तानाशाही हटाओ, लोकतंत्र बचाओ' रैली करे...</td>\n      <td>{'neg': 0.0, 'neu': 1.0, 'pos': 0.0, 'compound...</td>\n    </tr>\n    <tr>\n      <th>93</th>\n      <td>RT @MyNation: #IndiaFirst with @vivekagnihotri...</td>\n      <td>{'neg': 0.0, 'neu': 1.0, 'pos': 0.0, 'compound...</td>\n    </tr>\n    <tr>\n      <th>94</th>\n      <td>RT @Doval_Ajit12: Abhi abhi ek mera dost bta r...</td>\n      <td>{'neg': 0.0, 'neu': 1.0, 'pos': 0.0, 'compound...</td>\n    </tr>\n    <tr>\n      <th>95</th>\n      <td>RT @TajinderBagga: I am PM @narendramodi suppo...</td>\n      <td>{'neg': 0.0, 'neu': 0.769, 'pos': 0.231, 'comp...</td>\n    </tr>\n    <tr>\n      <th>96</th>\n      <td>RT @iAnkurSingh: Rahul Gandhi was asking where...</td>\n      <td>{'neg': 0.139, 'neu': 0.861, 'pos': 0.0, 'comp...</td>\n    </tr>\n    <tr>\n      <th>97</th>\n      <td>RT @royally_fiery: Rahul Gandhi ate all the co...</td>\n      <td>{'neg': 0.0, 'neu': 1.0, 'pos': 0.0, 'compound...</td>\n    </tr>\n    <tr>\n      <th>98</th>\n      <td>RT @TajinderBagga: I am PM @narendramodi suppo...</td>\n      <td>{'neg': 0.0, 'neu': 0.769, 'pos': 0.231, 'comp...</td>\n    </tr>\n    <tr>\n      <th>99</th>\n      <td>RT @TajinderBagga: I am PM @narendramodi suppo...</td>\n      <td>{'neg': 0.0, 'neu': 0.769, 'pos': 0.231, 'comp...</td>\n    </tr>\n  </tbody>\n</table>\n<p>100 rows × 2 columns</p>\n</div>"
          },
          "metadata": {}
        }
      ]
    }
  ],
  "metadata": {
    "kernelspec": {
      "display_name": "Python 3",
      "language": "python",
      "name": "python3"
    },
    "language_info": {
      "name": "python",
      "version": "3.6.6",
      "mimetype": "text/x-python",
      "codemirror_mode": {
        "name": "ipython",
        "version": 3
      },
      "pygments_lexer": "ipython3",
      "nbconvert_exporter": "python",
      "file_extension": ".py"
    }
  },
  "nbformat": 4,
  "nbformat_minor": 1
}